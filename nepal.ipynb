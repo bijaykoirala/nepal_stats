{
 "metadata": {
  "name": "",
  "signature": "sha256:5cf78538b8db6e8579cfb2c70d84c4735e24338b6f17ade2ebf048cfd5b869e8"
 },
 "nbformat": 3,
 "nbformat_minor": 0,
 "worksheets": [
  {
   "cells": [
    {
     "cell_type": "markdown",
     "metadata": {},
     "source": [
      "#NEPAL"
     ]
    },
    {
     "cell_type": "markdown",
     "metadata": {},
     "source": [
      "First let's get all of the data nicely in a format such that we can draw conclusions"
     ]
    },
    {
     "cell_type": "code",
     "collapsed": false,
     "input": [
      "#List of all imports and functions\n",
      "import sys, os, urllib\n",
      "import matplotlib\n",
      "import matplotlib.pyplot as plt\n"
     ],
     "language": "python",
     "metadata": {},
     "outputs": [],
     "prompt_number": 50
    },
    {
     "cell_type": "code",
     "collapsed": false,
     "input": [
      "# Getting the data from the folder and making a dict\n",
      "data_file = \"data/nepal_stats.csv\"\n",
      "import csv\n",
      "f = open(data_file, 'r')\n",
      "csvDict = csv.DictReader(f) \n",
      "all_stats = []\n",
      "for row in csvDict:\n",
      "   all_stats.append(row)\n",
      "f.close()\n"
     ],
     "language": "python",
     "metadata": {},
     "outputs": [],
     "prompt_number": 51
    },
    {
     "cell_type": "code",
     "collapsed": false,
     "input": [
      "# read the data, and plot it and save it only if necessary\n",
      "for each_indicator in all_stats:\n",
      "    key_npl = each_indicator['Indicator Name']\n",
      "    data = {}\n",
      "    for k,v in each_indicator.iteritems():\n",
      "        try:\n",
      "            k = float(k)\n",
      "            v = float(v)\n",
      "            data[k]=v\n",
      "        except:\n",
      "            continue # if there is an exception reading data, skip it\n",
      "            \n",
      "    if (len(set(data.values()))<5):\n",
      "        data = {}\n",
      "        continue\n",
      "    \n",
      "    plt.clf() # clear plot\n",
      "    plt.plot(data.keys(), data.values(),'o-', ms=8)\n",
      "    plt.xlabel(\"Years -->\")\n",
      "    plt.ylabel(key_npl+\"-->\");\n",
      "    plt.xlim(1959, 2017)\n",
      "\n",
      "    plt.gcf().set_size_inches(15.0, 12.0)\n",
      "    plt.title(key_npl)\n",
      "    savefig('results/'+key_npl+'.png', bbox_inches='tight') #save image\n",
      "    data = {} # reset dictionary\n",
      "    "
     ],
     "language": "python",
     "metadata": {},
     "outputs": [
      {
       "ename": "IOError",
       "evalue": "[Errno 2] No such file or directory: 'results/Energy intensity level of primary energy (MJ/$2011 PPP GDP).png'",
       "output_type": "pyerr",
       "traceback": [
        "\u001b[0;31m---------------------------------------------------------------------------\u001b[0m\n\u001b[0;31mIOError\u001b[0m                                   Traceback (most recent call last)",
        "\u001b[0;32m<ipython-input-52-1a84fa262f19>\u001b[0m in \u001b[0;36m<module>\u001b[0;34m()\u001b[0m\n\u001b[1;32m     23\u001b[0m     \u001b[0mplt\u001b[0m\u001b[0;34m.\u001b[0m\u001b[0mgcf\u001b[0m\u001b[0;34m(\u001b[0m\u001b[0;34m)\u001b[0m\u001b[0;34m.\u001b[0m\u001b[0mset_size_inches\u001b[0m\u001b[0;34m(\u001b[0m\u001b[0;36m15.0\u001b[0m\u001b[0;34m,\u001b[0m \u001b[0;36m12.0\u001b[0m\u001b[0;34m)\u001b[0m\u001b[0;34m\u001b[0m\u001b[0m\n\u001b[1;32m     24\u001b[0m     \u001b[0mplt\u001b[0m\u001b[0;34m.\u001b[0m\u001b[0mtitle\u001b[0m\u001b[0;34m(\u001b[0m\u001b[0mkey_npl\u001b[0m\u001b[0;34m)\u001b[0m\u001b[0;34m\u001b[0m\u001b[0m\n\u001b[0;32m---> 25\u001b[0;31m     \u001b[0msavefig\u001b[0m\u001b[0;34m(\u001b[0m\u001b[0;34m'results/'\u001b[0m\u001b[0;34m+\u001b[0m\u001b[0mkey_npl\u001b[0m\u001b[0;34m+\u001b[0m\u001b[0;34m'.png'\u001b[0m\u001b[0;34m,\u001b[0m \u001b[0mbbox_inches\u001b[0m\u001b[0;34m=\u001b[0m\u001b[0;34m'tight'\u001b[0m\u001b[0;34m)\u001b[0m \u001b[0;31m#save image\u001b[0m\u001b[0;34m\u001b[0m\u001b[0m\n\u001b[0m\u001b[1;32m     26\u001b[0m     \u001b[0mdata\u001b[0m \u001b[0;34m=\u001b[0m \u001b[0;34m{\u001b[0m\u001b[0;34m}\u001b[0m \u001b[0;31m# reset dictionary\u001b[0m\u001b[0;34m\u001b[0m\u001b[0m\n\u001b[1;32m     27\u001b[0m \u001b[0;34m\u001b[0m\u001b[0m\n",
        "\u001b[0;32m/Users/Macbook/Library/Enthought/Canopy_64bit/User/lib/python2.7/site-packages/matplotlib/pyplot.pyc\u001b[0m in \u001b[0;36msavefig\u001b[0;34m(*args, **kwargs)\u001b[0m\n\u001b[1;32m    575\u001b[0m \u001b[0;32mdef\u001b[0m \u001b[0msavefig\u001b[0m\u001b[0;34m(\u001b[0m\u001b[0;34m*\u001b[0m\u001b[0margs\u001b[0m\u001b[0;34m,\u001b[0m \u001b[0;34m**\u001b[0m\u001b[0mkwargs\u001b[0m\u001b[0;34m)\u001b[0m\u001b[0;34m:\u001b[0m\u001b[0;34m\u001b[0m\u001b[0m\n\u001b[1;32m    576\u001b[0m     \u001b[0mfig\u001b[0m \u001b[0;34m=\u001b[0m \u001b[0mgcf\u001b[0m\u001b[0;34m(\u001b[0m\u001b[0;34m)\u001b[0m\u001b[0;34m\u001b[0m\u001b[0m\n\u001b[0;32m--> 577\u001b[0;31m     \u001b[0mres\u001b[0m \u001b[0;34m=\u001b[0m \u001b[0mfig\u001b[0m\u001b[0;34m.\u001b[0m\u001b[0msavefig\u001b[0m\u001b[0;34m(\u001b[0m\u001b[0;34m*\u001b[0m\u001b[0margs\u001b[0m\u001b[0;34m,\u001b[0m \u001b[0;34m**\u001b[0m\u001b[0mkwargs\u001b[0m\u001b[0;34m)\u001b[0m\u001b[0;34m\u001b[0m\u001b[0m\n\u001b[0m\u001b[1;32m    578\u001b[0m     \u001b[0mdraw\u001b[0m\u001b[0;34m(\u001b[0m\u001b[0;34m)\u001b[0m   \u001b[0;31m# need this if 'transparent=True' to reset colors\u001b[0m\u001b[0;34m\u001b[0m\u001b[0m\n\u001b[1;32m    579\u001b[0m     \u001b[0;32mreturn\u001b[0m \u001b[0mres\u001b[0m\u001b[0;34m\u001b[0m\u001b[0m\n",
        "\u001b[0;32m/Users/Macbook/Library/Enthought/Canopy_64bit/User/lib/python2.7/site-packages/matplotlib/figure.pyc\u001b[0m in \u001b[0;36msavefig\u001b[0;34m(self, *args, **kwargs)\u001b[0m\n\u001b[1;32m   1474\u001b[0m             \u001b[0mself\u001b[0m\u001b[0;34m.\u001b[0m\u001b[0mset_frameon\u001b[0m\u001b[0;34m(\u001b[0m\u001b[0mframeon\u001b[0m\u001b[0;34m)\u001b[0m\u001b[0;34m\u001b[0m\u001b[0m\n\u001b[1;32m   1475\u001b[0m \u001b[0;34m\u001b[0m\u001b[0m\n\u001b[0;32m-> 1476\u001b[0;31m         \u001b[0mself\u001b[0m\u001b[0;34m.\u001b[0m\u001b[0mcanvas\u001b[0m\u001b[0;34m.\u001b[0m\u001b[0mprint_figure\u001b[0m\u001b[0;34m(\u001b[0m\u001b[0;34m*\u001b[0m\u001b[0margs\u001b[0m\u001b[0;34m,\u001b[0m \u001b[0;34m**\u001b[0m\u001b[0mkwargs\u001b[0m\u001b[0;34m)\u001b[0m\u001b[0;34m\u001b[0m\u001b[0m\n\u001b[0m\u001b[1;32m   1477\u001b[0m \u001b[0;34m\u001b[0m\u001b[0m\n\u001b[1;32m   1478\u001b[0m         \u001b[0;32mif\u001b[0m \u001b[0mframeon\u001b[0m\u001b[0;34m:\u001b[0m\u001b[0;34m\u001b[0m\u001b[0m\n",
        "\u001b[0;32m/Users/Macbook/Library/Enthought/Canopy_64bit/User/lib/python2.7/site-packages/matplotlib/backend_bases.pyc\u001b[0m in \u001b[0;36mprint_figure\u001b[0;34m(self, filename, dpi, facecolor, edgecolor, orientation, format, **kwargs)\u001b[0m\n\u001b[1;32m   2209\u001b[0m                 \u001b[0morientation\u001b[0m\u001b[0;34m=\u001b[0m\u001b[0morientation\u001b[0m\u001b[0;34m,\u001b[0m\u001b[0;34m\u001b[0m\u001b[0m\n\u001b[1;32m   2210\u001b[0m                 \u001b[0mbbox_inches_restore\u001b[0m\u001b[0;34m=\u001b[0m\u001b[0m_bbox_inches_restore\u001b[0m\u001b[0;34m,\u001b[0m\u001b[0;34m\u001b[0m\u001b[0m\n\u001b[0;32m-> 2211\u001b[0;31m                 **kwargs)\n\u001b[0m\u001b[1;32m   2212\u001b[0m         \u001b[0;32mfinally\u001b[0m\u001b[0;34m:\u001b[0m\u001b[0;34m\u001b[0m\u001b[0m\n\u001b[1;32m   2213\u001b[0m             \u001b[0;32mif\u001b[0m \u001b[0mbbox_inches\u001b[0m \u001b[0;32mand\u001b[0m \u001b[0mrestore_bbox\u001b[0m\u001b[0;34m:\u001b[0m\u001b[0;34m\u001b[0m\u001b[0m\n",
        "\u001b[0;32m/Users/Macbook/Library/Enthought/Canopy_64bit/User/lib/python2.7/site-packages/matplotlib/backends/backend_agg.pyc\u001b[0m in \u001b[0;36mprint_png\u001b[0;34m(self, filename_or_obj, *args, **kwargs)\u001b[0m\n\u001b[1;32m    524\u001b[0m         \u001b[0mrenderer\u001b[0m\u001b[0;34m.\u001b[0m\u001b[0mdpi\u001b[0m \u001b[0;34m=\u001b[0m \u001b[0mself\u001b[0m\u001b[0;34m.\u001b[0m\u001b[0mfigure\u001b[0m\u001b[0;34m.\u001b[0m\u001b[0mdpi\u001b[0m\u001b[0;34m\u001b[0m\u001b[0m\n\u001b[1;32m    525\u001b[0m         \u001b[0;32mif\u001b[0m \u001b[0mis_string_like\u001b[0m\u001b[0;34m(\u001b[0m\u001b[0mfilename_or_obj\u001b[0m\u001b[0;34m)\u001b[0m\u001b[0;34m:\u001b[0m\u001b[0;34m\u001b[0m\u001b[0m\n\u001b[0;32m--> 526\u001b[0;31m             \u001b[0mfilename_or_obj\u001b[0m \u001b[0;34m=\u001b[0m \u001b[0mopen\u001b[0m\u001b[0;34m(\u001b[0m\u001b[0mfilename_or_obj\u001b[0m\u001b[0;34m,\u001b[0m \u001b[0;34m'wb'\u001b[0m\u001b[0;34m)\u001b[0m\u001b[0;34m\u001b[0m\u001b[0m\n\u001b[0m\u001b[1;32m    527\u001b[0m             \u001b[0mclose\u001b[0m \u001b[0;34m=\u001b[0m \u001b[0mTrue\u001b[0m\u001b[0;34m\u001b[0m\u001b[0m\n\u001b[1;32m    528\u001b[0m         \u001b[0;32melse\u001b[0m\u001b[0;34m:\u001b[0m\u001b[0;34m\u001b[0m\u001b[0m\n",
        "\u001b[0;31mIOError\u001b[0m: [Errno 2] No such file or directory: 'results/Energy intensity level of primary energy (MJ/$2011 PPP GDP).png'"
       ]
      },
      {
       "metadata": {},
       "output_type": "display_data",
       "png": "[encoded data removed]",
       "text": [
        "<matplotlib.figure.Figure at 0x10b90f4d0>"
       ]
      }
     ],
     "prompt_number": 52
    },
    {
     "cell_type": "markdown",
     "metadata": {},
     "source": [
      "Now another dataset, containing data after 1990"
     ]
    },
    {
     "cell_type": "code",
     "collapsed": false,
     "input": [
      "# Getting the data from the folder and making a dict\n",
      "data_file = \"data/data_1990.csv\"\n",
      "import csv\n",
      "f = open(data_file, 'r')\n",
      "csvDict = csv.DictReader(f) \n",
      "all_stats = []\n",
      "for row in csvDict:\n",
      "   all_stats.append(row)\n",
      "f.close()"
     ],
     "language": "python",
     "metadata": {},
     "outputs": [],
     "prompt_number": 60
    },
    {
     "cell_type": "code",
     "collapsed": false,
     "input": [
      "# read the data, and plot it and save it only if necessary\n",
      "for each_indicator in all_stats:\n",
      "    key_npl = each_indicator['Series Name']\n",
      "    data = {}\n",
      "    for k,v in each_indicator.iteritems():\n",
      "        try:\n",
      "            k = float(k)\n",
      "            v = float(v)\n",
      "            data[k]=v\n",
      "        except:\n",
      "            print(\"Problem with \", k)\n",
      "            continue # if there is an exception reading data, skip it\n",
      "            \n",
      "    if (len(set(data.values()))<5):\n",
      "        data = {}\n",
      "        continue\n",
      "    \n",
      "    plt.clf() # clear plot\n",
      "    plt.plot(data.keys(), data.values(),'o-', ms=8)\n",
      "    plt.xlabel(\"Years -->\")\n",
      "    plt.ylabel(key_npl+\"-->\");\n",
      "    plt.xlim(1989, 2017)\n",
      "\n",
      "    plt.gcf().set_size_inches(15.0, 12.0)\n",
      "    plt.title(key_npl)\n",
      "    savefig('second_set_results/'+key_npl+'.png', bbox_inches='tight') #save image\n",
      "    data = {} # reset dictionary"
     ],
     "language": "python",
     "metadata": {},
     "outputs": [
      {
       "output_type": "stream",
       "stream": "stdout",
       "text": [
        "('Problem with ', 'Series Name')\n",
        "('Problem with ', 'Series Code')\n",
        "('Problem with ', 2015.0)\n",
        "('Problem with ', 'Series Name')"
       ]
      },
      {
       "output_type": "stream",
       "stream": "stdout",
       "text": [
        "\n",
        "('Problem with ', 'Series Code')\n",
        "('Problem with ', 2015.0)\n",
        "('Problem with ', 'Series Name')"
       ]
      },
      {
       "output_type": "stream",
       "stream": "stdout",
       "text": [
        "\n",
        "('Problem with ', 'Series Code')\n",
        "('Problem with ', 2015.0)\n",
        "('Problem with ', 'Series Name')\n",
        "('Problem with ', 'Series Code')\n",
        "('Problem with ', 2015.0)\n",
        "('Problem with ', 1990.0)"
       ]
      },
      {
       "output_type": "stream",
       "stream": "stdout",
       "text": [
        "\n",
        "('Problem with ', 'Series Name')\n",
        "('Problem with ', 'Series Code')\n",
        "('Problem with ', 2000.0)\n",
        "('Problem with ', 2006.0)\n",
        "('Problem with ', 2007.0)\n",
        "('Problem with ', 2015.0)\n",
        "('Problem with ', 2014.0)\n",
        "('Problem with ', 2008.0)\n",
        "('Problem with ', 2009.0)\n",
        "('Problem with ', 2011.0)\n",
        "('Problem with ', 2013.0)\n",
        "('Problem with ', 2012.0)\n",
        "('Problem with ', 1990.0)\n",
        "('Problem with ', 'Series Name')\n",
        "('Problem with ', 'Series Code')\n",
        "('Problem with ', 2000.0)\n",
        "('Problem with ', 2006.0)\n",
        "('Problem with ', 2007.0)\n",
        "('Problem with ', 2015.0)\n",
        "('Problem with ', 2014.0)\n",
        "('Problem with ', 2008.0)\n",
        "('Problem with ', 2009.0)\n",
        "('Problem with ', 2011.0)\n",
        "('Problem with ', 2013.0)\n",
        "('Problem with ', 2012.0)\n",
        "('Problem with ', 'Series Name')\n",
        "('Problem with ', 'Series Code')\n",
        "('Problem with ', 2015.0)\n",
        "('Problem with ', 'Series Name')"
       ]
      },
      {
       "output_type": "stream",
       "stream": "stdout",
       "text": [
        "\n",
        "('Problem with ', 'Series Code')\n",
        "('Problem with ', 2015.0)\n",
        "('Problem with ', 'Series Name')"
       ]
      },
      {
       "output_type": "stream",
       "stream": "stdout",
       "text": [
        "\n",
        "('Problem with ', 'Series Code')\n",
        "('Problem with ', 2015.0)\n",
        "('Problem with ', 'Series Name')"
       ]
      },
      {
       "output_type": "stream",
       "stream": "stdout",
       "text": [
        "\n",
        "('Problem with ', 'Series Code')\n",
        "('Problem with ', 2015.0)\n",
        "('Problem with ', 1990.0)"
       ]
      },
      {
       "output_type": "stream",
       "stream": "stdout",
       "text": [
        "\n",
        "('Problem with ', 'Series Name')\n",
        "('Problem with ', 'Series Code')\n",
        "('Problem with ', 2000.0)\n",
        "('Problem with ', 2006.0)\n",
        "('Problem with ', 2007.0)\n",
        "('Problem with ', 2015.0)\n",
        "('Problem with ', 2014.0)\n",
        "('Problem with ', 2008.0)\n",
        "('Problem with ', 2009.0)\n",
        "('Problem with ', 2011.0)\n",
        "('Problem with ', 2013.0)\n",
        "('Problem with ', 2012.0)\n",
        "('Problem with ', 'Series Name')\n",
        "('Problem with ', 'Series Code')\n",
        "('Problem with ', 2015.0)\n",
        "('Problem with ', 2014.0)\n",
        "('Problem with ', 'Series Name')"
       ]
      },
      {
       "output_type": "stream",
       "stream": "stdout",
       "text": [
        "\n",
        "('Problem with ', 'Series Code')\n",
        "('Problem with ', 2015.0)\n",
        "('Problem with ', 2014.0)\n",
        "('Problem with ', 'Series Name')"
       ]
      },
      {
       "output_type": "stream",
       "stream": "stdout",
       "text": [
        "\n",
        "('Problem with ', 'Series Code')\n",
        "('Problem with ', 2015.0)\n",
        "('Problem with ', 1990.0)"
       ]
      },
      {
       "output_type": "stream",
       "stream": "stdout",
       "text": [
        "\n",
        "('Problem with ', 'Series Name')\n",
        "('Problem with ', 'Series Code')\n",
        "('Problem with ', 2007.0)\n",
        "('Problem with ', 2015.0)\n",
        "('Problem with ', 2014.0)\n",
        "('Problem with ', 2008.0)\n",
        "('Problem with ', 2009.0)\n",
        "('Problem with ', 2010.0)\n",
        "('Problem with ', 2013.0)\n",
        "('Problem with ', 2012.0)\n",
        "('Problem with ', 1990.0)\n",
        "('Problem with ', 'Series Name')\n",
        "('Problem with ', 'Series Code')\n",
        "('Problem with ', 2007.0)\n",
        "('Problem with ', 2015.0)\n",
        "('Problem with ', 2014.0)\n",
        "('Problem with ', 2008.0)\n",
        "('Problem with ', 2009.0)\n",
        "('Problem with ', 2010.0)\n",
        "('Problem with ', 2013.0)\n",
        "('Problem with ', 2012.0)\n",
        "('Problem with ', 'Series Name')\n",
        "('Problem with ', 'Series Code')\n",
        "('Problem with ', 1990.0)"
       ]
      },
      {
       "output_type": "stream",
       "stream": "stdout",
       "text": [
        "\n",
        "('Problem with ', 'Series Name')\n",
        "('Problem with ', 'Series Code')\n",
        "('Problem with ', 2000.0)\n",
        "('Problem with ', 2007.0)\n",
        "('Problem with ', 2015.0)\n",
        "('Problem with ', 2014.0)\n",
        "('Problem with ', 2008.0)\n",
        "('Problem with ', 2009.0)\n",
        "('Problem with ', 2010.0)\n",
        "('Problem with ', 2013.0)\n",
        "('Problem with ', 2012.0)\n",
        "('Problem with ', 'Series Name')\n",
        "('Problem with ', 'Series Code')\n",
        "('Problem with ', 2015.0)\n",
        "('Problem with ', 1990.0)"
       ]
      },
      {
       "output_type": "stream",
       "stream": "stdout",
       "text": [
        "\n",
        "('Problem with ', 'Series Name')\n",
        "('Problem with ', 'Series Code')\n",
        "('Problem with ', 2007.0)\n",
        "('Problem with ', 2015.0)\n",
        "('Problem with ', 2009.0)\n",
        "('Problem with ', 2011.0)\n",
        "('Problem with ', 2010.0)\n",
        "('Problem with ', 'Series Name')"
       ]
      },
      {
       "output_type": "stream",
       "stream": "stdout",
       "text": [
        "\n",
        "('Problem with ', 'Series Code')\n",
        "('Problem with ', 2015.0)\n",
        "('Problem with ', 'Series Name')"
       ]
      },
      {
       "output_type": "stream",
       "stream": "stdout",
       "text": [
        "\n",
        "('Problem with ', 'Series Code')\n",
        "('Problem with ', 2015.0)\n",
        "('Problem with ', 'Series Name')"
       ]
      },
      {
       "output_type": "stream",
       "stream": "stdout",
       "text": [
        "\n",
        "('Problem with ', 'Series Code')\n",
        "('Problem with ', 2015.0)\n",
        "('Problem with ', 'Series Name')"
       ]
      },
      {
       "output_type": "stream",
       "stream": "stdout",
       "text": [
        "\n",
        "('Problem with ', 'Series Code')\n",
        "('Problem with ', 2015.0)\n",
        "('Problem with ', 'Series Name')\n",
        "('Problem with ', 'Series Code')\n",
        "('Problem with ', 2015.0)\n",
        "('Problem with ', 2014.0)\n",
        "('Problem with ', 2013.0)\n",
        "('Problem with ', 'Series Name')\n",
        "('Problem with ', 'Series Code')\n",
        "('Problem with ', 2015.0)\n",
        "('Problem with ', 2014.0)\n",
        "('Problem with ', 2011.0)\n",
        "('Problem with ', 2013.0)\n",
        "('Problem with ', 1990.0)\n",
        "('Problem with ', 'Series Name')\n",
        "('Problem with ', 'Series Code')\n",
        "('Problem with ', 2000.0)\n",
        "('Problem with ', 2006.0)\n",
        "('Problem with ', 2015.0)\n",
        "('Problem with ', 2014.0)\n",
        "('Problem with ', 2008.0)\n",
        "('Problem with ', 2009.0)\n",
        "('Problem with ', 2011.0)\n",
        "('Problem with ', 2010.0)\n",
        "('Problem with ', 2012.0)\n",
        "('Problem with ', 'Series Name')\n",
        "('Problem with ', 'Series Code')\n",
        "('Problem with ', 'Series Name')"
       ]
      },
      {
       "output_type": "stream",
       "stream": "stdout",
       "text": [
        "\n",
        "('Problem with ', 'Series Code')\n",
        "('Problem with ', 'Series Name')"
       ]
      },
      {
       "output_type": "stream",
       "stream": "stdout",
       "text": [
        "\n",
        "('Problem with ', 'Series Code')\n",
        "('Problem with ', 2015.0)\n",
        "('Problem with ', 'Series Name')"
       ]
      },
      {
       "output_type": "stream",
       "stream": "stdout",
       "text": [
        "\n",
        "('Problem with ', 'Series Code')\n",
        "('Problem with ', 2015.0)\n",
        "('Problem with ', 2014.0)\n",
        "('Problem with ', 2013.0)\n",
        "('Problem with ', 'Series Name')"
       ]
      },
      {
       "output_type": "stream",
       "stream": "stdout",
       "text": [
        "\n",
        "('Problem with ', 'Series Code')\n",
        "('Problem with ', 2015.0)\n",
        "('Problem with ', 2014.0)\n",
        "('Problem with ', 2013.0)\n",
        "('Problem with ', 2012.0)\n",
        "('Problem with ', 'Series Name')"
       ]
      },
      {
       "output_type": "stream",
       "stream": "stdout",
       "text": [
        "\n",
        "('Problem with ', 'Series Code')\n",
        "('Problem with ', 2015.0)\n",
        "('Problem with ', 2014.0)\n",
        "('Problem with ', 2013.0)\n",
        "('Problem with ', 'Series Name')"
       ]
      },
      {
       "output_type": "stream",
       "stream": "stdout",
       "text": [
        "\n",
        "('Problem with ', 'Series Code')\n",
        "('Problem with ', 2015.0)\n",
        "('Problem with ', 'Series Name')"
       ]
      },
      {
       "output_type": "stream",
       "stream": "stdout",
       "text": [
        "\n",
        "('Problem with ', 'Series Code')\n",
        "('Problem with ', 2015.0)\n",
        "('Problem with ', 'Series Name')"
       ]
      },
      {
       "output_type": "stream",
       "stream": "stdout",
       "text": [
        "\n",
        "('Problem with ', 'Series Code')\n",
        "('Problem with ', 2015.0)\n",
        "('Problem with ', 'Series Name')"
       ]
      },
      {
       "output_type": "stream",
       "stream": "stdout",
       "text": [
        "\n",
        "('Problem with ', 'Series Code')\n",
        "('Problem with ', 2015.0)\n",
        "('Problem with ', 'Series Name')"
       ]
      },
      {
       "output_type": "stream",
       "stream": "stdout",
       "text": [
        "\n",
        "('Problem with ', 'Series Code')\n",
        "('Problem with ', 2015.0)\n",
        "('Problem with ', 'Series Name')"
       ]
      },
      {
       "output_type": "stream",
       "stream": "stdout",
       "text": [
        "\n",
        "('Problem with ', 'Series Code')\n",
        "('Problem with ', 2015.0)\n",
        "('Problem with ', 'Series Name')"
       ]
      },
      {
       "output_type": "stream",
       "stream": "stdout",
       "text": [
        "\n",
        "('Problem with ', 'Series Code')\n",
        "('Problem with ', 2015.0)\n",
        "('Problem with ', 'Series Name')"
       ]
      },
      {
       "output_type": "stream",
       "stream": "stdout",
       "text": [
        "\n",
        "('Problem with ', 'Series Code')\n",
        "('Problem with ', 2015.0)\n",
        "('Problem with ', 'Series Name')"
       ]
      },
      {
       "output_type": "stream",
       "stream": "stdout",
       "text": [
        "\n",
        "('Problem with ', 'Series Code')\n",
        "('Problem with ', 2015.0)\n",
        "('Problem with ', 'Series Name')"
       ]
      },
      {
       "output_type": "stream",
       "stream": "stdout",
       "text": [
        "\n",
        "('Problem with ', 'Series Code')\n",
        "('Problem with ', 2015.0)\n",
        "('Problem with ', 2014.0)\n",
        "('Problem with ', 1990.0)"
       ]
      },
      {
       "output_type": "stream",
       "stream": "stdout",
       "text": [
        "\n",
        "('Problem with ', 'Series Name')\n",
        "('Problem with ', 'Series Code')\n",
        "('Problem with ', 2000.0)\n",
        "('Problem with ', 2006.0)\n",
        "('Problem with ', 2007.0)\n",
        "('Problem with ', 2015.0)\n",
        "('Problem with ', 2014.0)\n",
        "('Problem with ', 2008.0)\n",
        "('Problem with ', 2009.0)\n",
        "('Problem with ', 1990.0)\n",
        "('Problem with ', 'Series Name')\n",
        "('Problem with ', 'Series Code')\n",
        "('Problem with ', 2000.0)\n",
        "('Problem with ', 'Series Name')\n",
        "('Problem with ', 'Series Code')\n",
        "('Problem with ', 2015.0)\n",
        "('Problem with ', 'Series Name')"
       ]
      },
      {
       "output_type": "stream",
       "stream": "stdout",
       "text": [
        "\n",
        "('Problem with ', 'Series Code')\n",
        "('Problem with ', 2015.0)\n",
        "('Problem with ', 2014.0)\n",
        "('Problem with ', 'Series Name')"
       ]
      },
      {
       "output_type": "stream",
       "stream": "stdout",
       "text": [
        "\n",
        "('Problem with ', 'Series Code')\n",
        "('Problem with ', 2015.0)\n",
        "('Problem with ', 'Series Name')"
       ]
      },
      {
       "output_type": "stream",
       "stream": "stdout",
       "text": [
        "\n",
        "('Problem with ', 'Series Code')\n",
        "('Problem with ', 2015.0)\n",
        "('Problem with ', 'Series Name')"
       ]
      },
      {
       "output_type": "stream",
       "stream": "stdout",
       "text": [
        "\n",
        "('Problem with ', 'Series Code')\n",
        "('Problem with ', 2015.0)\n",
        "('Problem with ', 1990.0)"
       ]
      },
      {
       "output_type": "stream",
       "stream": "stdout",
       "text": [
        "\n",
        "('Problem with ', 'Series Name')\n",
        "('Problem with ', 'Series Code')\n",
        "('Problem with ', 2006.0)\n",
        "('Problem with ', 2007.0)\n",
        "('Problem with ', 2015.0)\n",
        "('Problem with ', 2014.0)\n",
        "('Problem with ', 2008.0)\n",
        "('Problem with ', 2012.0)\n",
        "('Problem with ', 1990.0)"
       ]
      },
      {
       "output_type": "stream",
       "stream": "stdout",
       "text": [
        "\n",
        "('Problem with ', 'Series Name')\n",
        "('Problem with ', 'Series Code')\n",
        "('Problem with ', 2000.0)\n",
        "('Problem with ', 'Series Name')"
       ]
      },
      {
       "output_type": "stream",
       "stream": "stdout",
       "text": [
        "\n",
        "('Problem with ', 'Series Code')\n",
        "('Problem with ', 2015.0)\n",
        "('Problem with ', 1990.0)"
       ]
      },
      {
       "output_type": "stream",
       "stream": "stdout",
       "text": [
        "\n",
        "('Problem with ', 'Series Name')\n",
        "('Problem with ', 'Series Code')\n",
        "('Problem with ', 2015.0)\n",
        "('Problem with ', 2014.0)\n",
        "('Problem with ', 'Series Name')"
       ]
      },
      {
       "output_type": "stream",
       "stream": "stdout",
       "text": [
        "\n",
        "('Problem with ', 'Series Code')\n",
        "('Problem with ', 2015.0)\n",
        "('Problem with ', 2014.0)\n",
        "('Problem with ', 'Series Name')"
       ]
      },
      {
       "output_type": "stream",
       "stream": "stdout",
       "text": [
        "\n",
        "('Problem with ', 'Series Code')\n",
        "('Problem with ', 2015.0)\n",
        "('Problem with ', 2014.0)\n",
        "('Problem with ', 1990.0)"
       ]
      },
      {
       "output_type": "stream",
       "stream": "stdout",
       "text": [
        "\n",
        "('Problem with ', 'Series Name')\n",
        "('Problem with ', 'Series Code')\n",
        "('Problem with ', 2000.0)\n",
        "('Problem with ', 2006.0)\n",
        "('Problem with ', 2015.0)\n",
        "('Problem with ', 2014.0)\n",
        "('Problem with ', 2008.0)\n",
        "('Problem with ', 2009.0)\n",
        "('Problem with ', 2011.0)\n",
        "('Problem with ', 2010.0)\n",
        "('Problem with ', 2013.0)\n",
        "('Problem with ', 1990.0)\n",
        "('Problem with ', 'Series Name')\n",
        "('Problem with ', 'Series Code')\n",
        "('Problem with ', 2015.0)\n",
        "('Problem with ', 2014.0)\n",
        "('Problem with ', 'Series Name')"
       ]
      },
      {
       "output_type": "stream",
       "stream": "stdout",
       "text": [
        "\n",
        "('Problem with ', 'Series Code')\n",
        "('Problem with ', 2015.0)\n",
        "('Problem with ', 2014.0)\n",
        "('Problem with ', 'Series Name')"
       ]
      },
      {
       "output_type": "stream",
       "stream": "stdout",
       "text": [
        "\n",
        "('Problem with ', 'Series Code')\n",
        "('Problem with ', 2015.0)\n",
        "('Problem with ', 2014.0)\n"
       ]
      },
      {
       "metadata": {},
       "output_type": "display_data",
       "png": "[encoded data removed]",
       "text": [
        "<matplotlib.figure.Figure at 0x10b3e58d0>"
       ]
      }
     ],
     "prompt_number": 64
    },
    {
     "cell_type": "code",
     "collapsed": false,
     "input": [],
     "language": "python",
     "metadata": {},
     "outputs": [],
     "prompt_number": 59
    },
    {
     "cell_type": "code",
     "collapsed": false,
     "input": [],
     "language": "python",
     "metadata": {},
     "outputs": []
    }
   ],
   "metadata": {}
  }
 ]
}