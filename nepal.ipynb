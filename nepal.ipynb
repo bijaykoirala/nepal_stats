{
 "metadata": {
  "name": "",
  "signature": "sha256:65cf704703d5b80dfb1fc77ad10b04b11144fc617e35801b9ac34567a34806a2"
 },
 "nbformat": 3,
 "nbformat_minor": 0,
 "worksheets": [
  {
   "cells": [
    {
     "cell_type": "markdown",
     "metadata": {},
     "source": [
      "#NEPAL"
     ]
    },
    {
     "cell_type": "markdown",
     "metadata": {},
     "source": [
      "First let's get all of the data nicely in a format such that we can draw conclusions"
     ]
    },
    {
     "cell_type": "code",
     "collapsed": false,
     "input": [
      "#List of all imports and functions\n",
      "import sys, os, urllib\n",
      "import matplotlib\n",
      "import matplotlib.pyplot as plt\n"
     ],
     "language": "python",
     "metadata": {},
     "outputs": [],
     "prompt_number": 50
    },
    {
     "cell_type": "code",
     "collapsed": false,
     "input": [
      "# Getting the data from the folder and making a dict\n",
      "data_file = \"data/nepal_stats.csv\"\n",
      "import csv\n",
      "f = open(data_file, 'r')\n",
      "csvDict = csv.DictReader(f) \n",
      "all_stats = []\n",
      "for row in csvDict:\n",
      "   all_stats.append(row)\n",
      "f.close()\n"
     ],
     "language": "python",
     "metadata": {},
     "outputs": []
    },
    {
     "cell_type": "code",
     "collapsed": false,
     "input": [
      "# read the data, and plot it and save it only if necessary\n",
      "for each_indicator in all_stats:\n",
      "    key_npl = each_indicator['Indicator Name']\n",
      "    data = {}\n",
      "    for k,v in each_indicator.iteritems():\n",
      "        try:\n",
      "            k = float(k)\n",
      "            v = float(v)\n",
      "            data[k]=v\n",
      "        except:\n",
      "            continue # if there is an exception reading data, skip it\n",
      "            \n",
      "    if (len(set(data.values()))<5):\n",
      "        data = {}\n",
      "        continue\n",
      "    \n",
      "    plt.clf() # clear plot\n",
      "    plt.plot(data.keys(), data.values(),'o-', ms=8)\n",
      "    plt.xlabel(\"Years -->\")\n",
      "    plt.ylabel(key_npl+\"-->\");\n",
      "    plt.xlim(1959, 2017)\n",
      "\n",
      "    plt.gcf().set_size_inches(15.0, 12.0)\n",
      "    plt.title(key_npl)\n",
      "    savefig('results/'+key_npl+'.png', bbox_inches='tight') #save image\n",
      "    data = {} # reset dictionary\n",
      "    "
     ],
     "language": "python",
     "metadata": {},
     "outputs": []
    },
    {
     "cell_type": "code",
     "collapsed": false,
     "input": [],
     "language": "python",
     "metadata": {},
     "outputs": []
    },
    {
     "cell_type": "code",
     "collapsed": false,
     "input": [],
     "language": "python",
     "metadata": {},
     "outputs": []
    }
   ],
   "metadata": {}
  }
 ]
}