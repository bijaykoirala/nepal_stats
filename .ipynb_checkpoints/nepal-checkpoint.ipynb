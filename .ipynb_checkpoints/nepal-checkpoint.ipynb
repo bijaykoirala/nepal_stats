{
 "metadata": {
  "name": "",
  "signature": "sha256:435c7089a900d2e1e2841cba64c4e9d55986f966d4b1a8f48dd7ca7cb42f70ac"
 },
 "nbformat": 3,
 "nbformat_minor": 0,
 "worksheets": [
  {
   "cells": [
    {
     "cell_type": "markdown",
     "metadata": {},
     "source": [
      "#NEPAL"
     ]
    },
    {
     "cell_type": "code",
     "collapsed": false,
     "input": [],
     "language": "python",
     "metadata": {},
     "outputs": []
    }
   ],
   "metadata": {}
  }
 ]
}